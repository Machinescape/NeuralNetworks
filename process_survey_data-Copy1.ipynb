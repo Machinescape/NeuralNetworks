{
 "cells": [
  {
   "cell_type": "markdown",
   "metadata": {},
   "source": [
    "Make sure you download the 2016-2017 Household LSMS survey data for Malawi from https://microdata.worldbank.org/index.php/catalog/lsms. It should be in `../countries/malawi_2016/LSMS/`"
   ]
  },
  {
   "cell_type": "code",
   "execution_count": 10,
   "metadata": {},
   "outputs": [],
   "source": [
    "import pandas as pd\n",
    "import numpy as np\n",
    "import os"
   ]
  },
  {
   "cell_type": "code",
   "execution_count": 34,
   "metadata": {},
   "outputs": [],
   "source": [
    "BASE_DIR = '..'\n",
    "NIGHTLIGHTS_DIR = os.path.join(BASE_DIR, 'data/Nightlights/2013/F182013.v4c_web.stable_lights.avg_vis.tif')\n",
    "COUNTRY = 'ethiopia_2016'\n",
    "\n",
    "COUNTRY_DIR = os.path.join(BASE_DIR, 'countries', COUNTRY)\n",
    "LSMS_DIR = os.path.join(COUNTRY_DIR, 'LSMS', 'ETH_2015_ESS_v03_M_CSV')"
   ]
  },
  {
   "cell_type": "code",
   "execution_count": 63,
   "metadata": {},
   "outputs": [],
   "source": [
    "# these vary from one LSMS survey to another\n",
    "CONSUMPTION_FILE = 'cons_agg_w3.csv'\n",
    "CONSUMPTION_PH_COL = 'total_cons_ann' # per household\n",
    "#CONSUMPTION_PC_COL = 'rexpaggpc' # per capita\n",
    "\n",
    "GEOLOCATION_FILE = 'Geovariables/ETH_HouseholdGeovars_y3.csv'\n",
    "LATITUDE_COL = 'lat_dd_mod'\n",
    "LONGITUDE_COL = 'lon_dd_mod'\n",
    "\n",
    "# purchasing power parity for malawi in 2016 (https://data.worldbank.org/indicator/PA.NUS.PRVT.PP?locations=MW)\n",
    "PPP = 207.238"
   ]
  },
  {
   "cell_type": "code",
   "execution_count": 64,
   "metadata": {},
   "outputs": [],
   "source": [
    "for file in [CONSUMPTION_FILE, GEOLOCATION_FILE]:\n",
    "    #print(os.path.isfile(os.path.join(LSMS_DIR, file)))\n",
    "    assert os.path.isfile(os.path.join(LSMS_DIR, file)), print(f'Could not find {file}')"
   ]
  },
  {
   "cell_type": "code",
   "execution_count": 65,
   "metadata": {},
   "outputs": [
    {
     "data": {
      "text/plain": [
       "['household_id2',\n",
       " 'ea_id2',\n",
       " 'dist_road',\n",
       " 'dist_popcenter',\n",
       " 'dist_market',\n",
       " 'dist_borderpost',\n",
       " 'dist_admctr',\n",
       " 'pop_density',\n",
       " 'af_bio_1',\n",
       " 'af_bio_8',\n",
       " 'af_bio_12',\n",
       " 'af_bio_13',\n",
       " 'af_bio_16',\n",
       " 'fsrad3_agpct',\n",
       " 'fsrad3_lcmaj',\n",
       " 'ssa_aez09',\n",
       " 'srtm',\n",
       " 'twi',\n",
       " 'srtm_5_15',\n",
       " 'sq1',\n",
       " 'sq2',\n",
       " 'sq3',\n",
       " 'sq4',\n",
       " 'sq5',\n",
       " 'sq6',\n",
       " 'sq7',\n",
       " 'anntot_avg',\n",
       " 'wetQ_avg',\n",
       " 'wetQ_avgstart',\n",
       " 'h2015_tot',\n",
       " 'h2015_wetQ',\n",
       " 'h2015_wetQstart',\n",
       " 'eviarea_avg',\n",
       " 'evimax_avg',\n",
       " 'grn_avg',\n",
       " 'sen_avg',\n",
       " 'h2015_eviarea',\n",
       " 'h2015_evimax',\n",
       " 'h2015_grn',\n",
       " 'h2015_sen',\n",
       " 'lat_dd_mod',\n",
       " 'lon_dd_mod']"
      ]
     },
     "execution_count": 65,
     "metadata": {},
     "output_type": "execute_result"
    }
   ],
   "source": [
    "df_geo = pd.read_csv(os.path.join(LSMS_DIR, GEOLOCATION_FILE))\n",
    "df_geo.columns.tolist()"
   ]
  },
  {
   "cell_type": "code",
   "execution_count": 66,
   "metadata": {},
   "outputs": [
    {
     "data": {
      "text/html": [
       "<div>\n",
       "<style scoped>\n",
       "    .dataframe tbody tr th:only-of-type {\n",
       "        vertical-align: middle;\n",
       "    }\n",
       "\n",
       "    .dataframe tbody tr th {\n",
       "        vertical-align: top;\n",
       "    }\n",
       "\n",
       "    .dataframe thead th {\n",
       "        text-align: right;\n",
       "    }\n",
       "</style>\n",
       "<table border=\"1\" class=\"dataframe\">\n",
       "  <thead>\n",
       "    <tr style=\"text-align: right;\">\n",
       "      <th></th>\n",
       "      <th>household_id</th>\n",
       "      <th>household_id2</th>\n",
       "      <th>ea_id</th>\n",
       "      <th>ea_id2</th>\n",
       "      <th>saq01</th>\n",
       "      <th>rural</th>\n",
       "      <th>pw_w3</th>\n",
       "      <th>adulteq</th>\n",
       "      <th>hh_size</th>\n",
       "      <th>no_conv</th>\n",
       "      <th>no_cons</th>\n",
       "      <th>food_cons_ann</th>\n",
       "      <th>nonfood_cons_ann</th>\n",
       "      <th>educ_cons_ann</th>\n",
       "      <th>total_cons_ann</th>\n",
       "      <th>price_index_hce</th>\n",
       "      <th>nom_totcons_aeq</th>\n",
       "      <th>cons_quint</th>\n",
       "    </tr>\n",
       "  </thead>\n",
       "  <tbody>\n",
       "    <tr>\n",
       "      <td>0</td>\n",
       "      <td>1010101601002</td>\n",
       "      <td>10101088801601002</td>\n",
       "      <td>1010101601</td>\n",
       "      <td>10101088801601</td>\n",
       "      <td>1</td>\n",
       "      <td>1</td>\n",
       "      <td>2897.155029</td>\n",
       "      <td>0.74</td>\n",
       "      <td>1</td>\n",
       "      <td>0</td>\n",
       "      <td>0</td>\n",
       "      <td>1970.800049</td>\n",
       "      <td>1013.0</td>\n",
       "      <td>0.0</td>\n",
       "      <td>2983.800049</td>\n",
       "      <td>1.034</td>\n",
       "      <td>4032.162109</td>\n",
       "      <td>2.0</td>\n",
       "    </tr>\n",
       "    <tr>\n",
       "      <td>1</td>\n",
       "      <td>1010101601017</td>\n",
       "      <td>10101088801601017</td>\n",
       "      <td>1010101601</td>\n",
       "      <td>10101088801601</td>\n",
       "      <td>1</td>\n",
       "      <td>1</td>\n",
       "      <td>2897.155029</td>\n",
       "      <td>7.21</td>\n",
       "      <td>9</td>\n",
       "      <td>0</td>\n",
       "      <td>0</td>\n",
       "      <td>7883.200195</td>\n",
       "      <td>5337.0</td>\n",
       "      <td>358.0</td>\n",
       "      <td>13578.200195</td>\n",
       "      <td>1.034</td>\n",
       "      <td>1883.245483</td>\n",
       "      <td>1.0</td>\n",
       "    </tr>\n",
       "    <tr>\n",
       "      <td>2</td>\n",
       "      <td>1010101601034</td>\n",
       "      <td>10101088801601034</td>\n",
       "      <td>1010101601</td>\n",
       "      <td>10101088801601</td>\n",
       "      <td>1</td>\n",
       "      <td>1</td>\n",
       "      <td>2897.155029</td>\n",
       "      <td>0.74</td>\n",
       "      <td>1</td>\n",
       "      <td>0</td>\n",
       "      <td>0</td>\n",
       "      <td>8958.444458</td>\n",
       "      <td>322.0</td>\n",
       "      <td>0.0</td>\n",
       "      <td>9280.444336</td>\n",
       "      <td>1.034</td>\n",
       "      <td>12541.140625</td>\n",
       "      <td>5.0</td>\n",
       "    </tr>\n",
       "    <tr>\n",
       "      <td>3</td>\n",
       "      <td>1010101601049</td>\n",
       "      <td>10101088801601049</td>\n",
       "      <td>1010101601</td>\n",
       "      <td>10101088801601</td>\n",
       "      <td>1</td>\n",
       "      <td>1</td>\n",
       "      <td>2897.155029</td>\n",
       "      <td>2.50</td>\n",
       "      <td>3</td>\n",
       "      <td>0</td>\n",
       "      <td>0</td>\n",
       "      <td>9594.000000</td>\n",
       "      <td>1630.0</td>\n",
       "      <td>480.0</td>\n",
       "      <td>11704.000000</td>\n",
       "      <td>1.034</td>\n",
       "      <td>4681.600098</td>\n",
       "      <td>3.0</td>\n",
       "    </tr>\n",
       "    <tr>\n",
       "      <td>4</td>\n",
       "      <td>1010101601064</td>\n",
       "      <td>10101088801601064</td>\n",
       "      <td>1010101601</td>\n",
       "      <td>10101088801601</td>\n",
       "      <td>1</td>\n",
       "      <td>1</td>\n",
       "      <td>2897.155029</td>\n",
       "      <td>1.58</td>\n",
       "      <td>2</td>\n",
       "      <td>0</td>\n",
       "      <td>0</td>\n",
       "      <td>11702.888916</td>\n",
       "      <td>3272.0</td>\n",
       "      <td>0.0</td>\n",
       "      <td>14974.888672</td>\n",
       "      <td>1.034</td>\n",
       "      <td>9477.778320</td>\n",
       "      <td>5.0</td>\n",
       "    </tr>\n",
       "  </tbody>\n",
       "</table>\n",
       "</div>"
      ],
      "text/plain": [
       "    household_id      household_id2       ea_id          ea_id2  saq01  rural  \\\n",
       "0  1010101601002  10101088801601002  1010101601  10101088801601      1      1   \n",
       "1  1010101601017  10101088801601017  1010101601  10101088801601      1      1   \n",
       "2  1010101601034  10101088801601034  1010101601  10101088801601      1      1   \n",
       "3  1010101601049  10101088801601049  1010101601  10101088801601      1      1   \n",
       "4  1010101601064  10101088801601064  1010101601  10101088801601      1      1   \n",
       "\n",
       "         pw_w3  adulteq  hh_size  no_conv  no_cons  food_cons_ann  \\\n",
       "0  2897.155029     0.74        1        0        0    1970.800049   \n",
       "1  2897.155029     7.21        9        0        0    7883.200195   \n",
       "2  2897.155029     0.74        1        0        0    8958.444458   \n",
       "3  2897.155029     2.50        3        0        0    9594.000000   \n",
       "4  2897.155029     1.58        2        0        0   11702.888916   \n",
       "\n",
       "   nonfood_cons_ann  educ_cons_ann  total_cons_ann  price_index_hce  \\\n",
       "0            1013.0            0.0     2983.800049            1.034   \n",
       "1            5337.0          358.0    13578.200195            1.034   \n",
       "2             322.0            0.0     9280.444336            1.034   \n",
       "3            1630.0          480.0    11704.000000            1.034   \n",
       "4            3272.0            0.0    14974.888672            1.034   \n",
       "\n",
       "   nom_totcons_aeq  cons_quint  \n",
       "0      4032.162109         2.0  \n",
       "1      1883.245483         1.0  \n",
       "2     12541.140625         5.0  \n",
       "3      4681.600098         3.0  \n",
       "4      9477.778320         5.0  "
      ]
     },
     "execution_count": 66,
     "metadata": {},
     "output_type": "execute_result"
    }
   ],
   "source": [
    "df = pd.read_csv(os.path.join(LSMS_DIR, CONSUMPTION_FILE))\n",
    "df.head()"
   ]
  },
  {
   "cell_type": "code",
   "execution_count": 67,
   "metadata": {},
   "outputs": [],
   "source": [
    "#df = pd.read_csv(os.path.join(LSMS_DIR, CONSUMPTION_FILE))\n",
    "df['cons_ph'] = df[CONSUMPTION_PH_COL]\n",
    "#df['cons_pc'] = df[CONSUMPTION_PC_COL]\n",
    "df['people_in_household'] = df['hh_size']\n",
    "df['cons_ph'] = df['cons_ph'] / PPP / 365\n",
    "df = df[['household_id2', 'cons_ph', 'people_in_household']]\n",
    "\n",
    "df_geo = pd.read_csv(os.path.join(LSMS_DIR, GEOLOCATION_FILE))\n",
    "df_cords = df_geo[['household_id2', 'ea_id2', LATITUDE_COL, LONGITUDE_COL]]\n",
    "df_cords.rename(columns={LATITUDE_COL: 'lat', LONGITUDE_COL: 'lon'}, inplace=True)"
   ]
  },
  {
   "cell_type": "code",
   "execution_count": 73,
   "metadata": {},
   "outputs": [
    {
     "data": {
      "text/html": [
       "<div>\n",
       "<style scoped>\n",
       "    .dataframe tbody tr th:only-of-type {\n",
       "        vertical-align: middle;\n",
       "    }\n",
       "\n",
       "    .dataframe tbody tr th {\n",
       "        vertical-align: top;\n",
       "    }\n",
       "\n",
       "    .dataframe thead th {\n",
       "        text-align: right;\n",
       "    }\n",
       "</style>\n",
       "<table border=\"1\" class=\"dataframe\">\n",
       "  <thead>\n",
       "    <tr style=\"text-align: right;\">\n",
       "      <th></th>\n",
       "      <th>household_id2</th>\n",
       "      <th>ea_id2</th>\n",
       "      <th>dist_road</th>\n",
       "      <th>dist_popcenter</th>\n",
       "      <th>dist_market</th>\n",
       "      <th>dist_borderpost</th>\n",
       "      <th>dist_admctr</th>\n",
       "      <th>pop_density</th>\n",
       "      <th>af_bio_1</th>\n",
       "      <th>af_bio_8</th>\n",
       "      <th>...</th>\n",
       "      <th>eviarea_avg</th>\n",
       "      <th>evimax_avg</th>\n",
       "      <th>grn_avg</th>\n",
       "      <th>sen_avg</th>\n",
       "      <th>h2015_eviarea</th>\n",
       "      <th>h2015_evimax</th>\n",
       "      <th>h2015_grn</th>\n",
       "      <th>h2015_sen</th>\n",
       "      <th>lat_dd_mod</th>\n",
       "      <th>lon_dd_mod</th>\n",
       "    </tr>\n",
       "  </thead>\n",
       "  <tbody>\n",
       "    <tr>\n",
       "      <td>0</td>\n",
       "      <td>10101088801601002</td>\n",
       "      <td>10101088801601</td>\n",
       "      <td>50</td>\n",
       "      <td>53</td>\n",
       "      <td>105</td>\n",
       "      <td>134</td>\n",
       "      <td>198</td>\n",
       "      <td>0-50</td>\n",
       "      <td>264</td>\n",
       "      <td>258</td>\n",
       "      <td>...</td>\n",
       "      <td>46</td>\n",
       "      <td>0.432</td>\n",
       "      <td>177</td>\n",
       "      <td>257</td>\n",
       "      <td>40</td>\n",
       "      <td>0.386</td>\n",
       "      <td>173</td>\n",
       "      <td>256</td>\n",
       "      <td>14.353816</td>\n",
       "      <td>37.890876</td>\n",
       "    </tr>\n",
       "    <tr>\n",
       "      <td>1</td>\n",
       "      <td>10101088801601017</td>\n",
       "      <td>10101088801601</td>\n",
       "      <td>50</td>\n",
       "      <td>53</td>\n",
       "      <td>106</td>\n",
       "      <td>135</td>\n",
       "      <td>198</td>\n",
       "      <td>0-50</td>\n",
       "      <td>263</td>\n",
       "      <td>257</td>\n",
       "      <td>...</td>\n",
       "      <td>46</td>\n",
       "      <td>0.432</td>\n",
       "      <td>177</td>\n",
       "      <td>257</td>\n",
       "      <td>40</td>\n",
       "      <td>0.386</td>\n",
       "      <td>173</td>\n",
       "      <td>256</td>\n",
       "      <td>14.353816</td>\n",
       "      <td>37.890876</td>\n",
       "    </tr>\n",
       "    <tr>\n",
       "      <td>2</td>\n",
       "      <td>10101088801601034</td>\n",
       "      <td>10101088801601</td>\n",
       "      <td>46</td>\n",
       "      <td>49</td>\n",
       "      <td>100</td>\n",
       "      <td>135</td>\n",
       "      <td>195</td>\n",
       "      <td>0-50</td>\n",
       "      <td>262</td>\n",
       "      <td>256</td>\n",
       "      <td>...</td>\n",
       "      <td>46</td>\n",
       "      <td>0.432</td>\n",
       "      <td>177</td>\n",
       "      <td>257</td>\n",
       "      <td>40</td>\n",
       "      <td>0.386</td>\n",
       "      <td>173</td>\n",
       "      <td>256</td>\n",
       "      <td>14.353816</td>\n",
       "      <td>37.890876</td>\n",
       "    </tr>\n",
       "    <tr>\n",
       "      <td>3</td>\n",
       "      <td>10101088801601049</td>\n",
       "      <td>10101088801601</td>\n",
       "      <td>46</td>\n",
       "      <td>49</td>\n",
       "      <td>100</td>\n",
       "      <td>135</td>\n",
       "      <td>195</td>\n",
       "      <td>0-50</td>\n",
       "      <td>262</td>\n",
       "      <td>256</td>\n",
       "      <td>...</td>\n",
       "      <td>46</td>\n",
       "      <td>0.432</td>\n",
       "      <td>177</td>\n",
       "      <td>257</td>\n",
       "      <td>40</td>\n",
       "      <td>0.386</td>\n",
       "      <td>173</td>\n",
       "      <td>256</td>\n",
       "      <td>14.353816</td>\n",
       "      <td>37.890876</td>\n",
       "    </tr>\n",
       "    <tr>\n",
       "      <td>4</td>\n",
       "      <td>10101088801601064</td>\n",
       "      <td>10101088801601</td>\n",
       "      <td>46</td>\n",
       "      <td>49</td>\n",
       "      <td>100</td>\n",
       "      <td>135</td>\n",
       "      <td>195</td>\n",
       "      <td>0-50</td>\n",
       "      <td>262</td>\n",
       "      <td>256</td>\n",
       "      <td>...</td>\n",
       "      <td>46</td>\n",
       "      <td>0.432</td>\n",
       "      <td>177</td>\n",
       "      <td>257</td>\n",
       "      <td>40</td>\n",
       "      <td>0.386</td>\n",
       "      <td>173</td>\n",
       "      <td>256</td>\n",
       "      <td>14.353816</td>\n",
       "      <td>37.890876</td>\n",
       "    </tr>\n",
       "  </tbody>\n",
       "</table>\n",
       "<p>5 rows × 42 columns</p>\n",
       "</div>"
      ],
      "text/plain": [
       "       household_id2          ea_id2  dist_road  dist_popcenter  dist_market  \\\n",
       "0  10101088801601002  10101088801601         50              53          105   \n",
       "1  10101088801601017  10101088801601         50              53          106   \n",
       "2  10101088801601034  10101088801601         46              49          100   \n",
       "3  10101088801601049  10101088801601         46              49          100   \n",
       "4  10101088801601064  10101088801601         46              49          100   \n",
       "\n",
       "   dist_borderpost  dist_admctr pop_density  af_bio_1  af_bio_8  ...  \\\n",
       "0              134          198        0-50       264       258  ...   \n",
       "1              135          198        0-50       263       257  ...   \n",
       "2              135          195        0-50       262       256  ...   \n",
       "3              135          195        0-50       262       256  ...   \n",
       "4              135          195        0-50       262       256  ...   \n",
       "\n",
       "   eviarea_avg  evimax_avg  grn_avg  sen_avg  h2015_eviarea  h2015_evimax  \\\n",
       "0           46       0.432      177      257             40         0.386   \n",
       "1           46       0.432      177      257             40         0.386   \n",
       "2           46       0.432      177      257             40         0.386   \n",
       "3           46       0.432      177      257             40         0.386   \n",
       "4           46       0.432      177      257             40         0.386   \n",
       "\n",
       "   h2015_grn  h2015_sen  lat_dd_mod  lon_dd_mod  \n",
       "0        173        256   14.353816   37.890876  \n",
       "1        173        256   14.353816   37.890876  \n",
       "2        173        256   14.353816   37.890876  \n",
       "3        173        256   14.353816   37.890876  \n",
       "4        173        256   14.353816   37.890876  \n",
       "\n",
       "[5 rows x 42 columns]"
      ]
     },
     "execution_count": 73,
     "metadata": {},
     "output_type": "execute_result"
    }
   ],
   "source": [
    "df_geo.head()"
   ]
  },
  {
   "cell_type": "code",
   "execution_count": 74,
   "metadata": {},
   "outputs": [],
   "source": [
    "df_combined = pd.merge(df, df_cords, on='household_id2')"
   ]
  },
  {
   "cell_type": "code",
   "execution_count": 75,
   "metadata": {},
   "outputs": [
    {
     "data": {
      "text/html": [
       "<div>\n",
       "<style scoped>\n",
       "    .dataframe tbody tr th:only-of-type {\n",
       "        vertical-align: middle;\n",
       "    }\n",
       "\n",
       "    .dataframe tbody tr th {\n",
       "        vertical-align: top;\n",
       "    }\n",
       "\n",
       "    .dataframe thead th {\n",
       "        text-align: right;\n",
       "    }\n",
       "</style>\n",
       "<table border=\"1\" class=\"dataframe\">\n",
       "  <thead>\n",
       "    <tr style=\"text-align: right;\">\n",
       "      <th></th>\n",
       "      <th>household_id2</th>\n",
       "      <th>cons_ph</th>\n",
       "      <th>people_in_household</th>\n",
       "      <th>ea_id2</th>\n",
       "      <th>lat</th>\n",
       "      <th>lon</th>\n",
       "    </tr>\n",
       "  </thead>\n",
       "  <tbody>\n",
       "    <tr>\n",
       "      <td>0</td>\n",
       "      <td>10101088801601002</td>\n",
       "      <td>0.039446</td>\n",
       "      <td>1</td>\n",
       "      <td>10101088801601</td>\n",
       "      <td>14.353816</td>\n",
       "      <td>37.890876</td>\n",
       "    </tr>\n",
       "    <tr>\n",
       "      <td>1</td>\n",
       "      <td>10101088801601017</td>\n",
       "      <td>0.179506</td>\n",
       "      <td>9</td>\n",
       "      <td>10101088801601</td>\n",
       "      <td>14.353816</td>\n",
       "      <td>37.890876</td>\n",
       "    </tr>\n",
       "    <tr>\n",
       "      <td>2</td>\n",
       "      <td>10101088801601034</td>\n",
       "      <td>0.122689</td>\n",
       "      <td>1</td>\n",
       "      <td>10101088801601</td>\n",
       "      <td>14.353816</td>\n",
       "      <td>37.890876</td>\n",
       "    </tr>\n",
       "    <tr>\n",
       "      <td>3</td>\n",
       "      <td>10101088801601049</td>\n",
       "      <td>0.154729</td>\n",
       "      <td>3</td>\n",
       "      <td>10101088801601</td>\n",
       "      <td>14.353816</td>\n",
       "      <td>37.890876</td>\n",
       "    </tr>\n",
       "    <tr>\n",
       "      <td>4</td>\n",
       "      <td>10101088801601064</td>\n",
       "      <td>0.197971</td>\n",
       "      <td>2</td>\n",
       "      <td>10101088801601</td>\n",
       "      <td>14.353816</td>\n",
       "      <td>37.890876</td>\n",
       "    </tr>\n",
       "  </tbody>\n",
       "</table>\n",
       "</div>"
      ],
      "text/plain": [
       "       household_id2   cons_ph  people_in_household          ea_id2  \\\n",
       "0  10101088801601002  0.039446                    1  10101088801601   \n",
       "1  10101088801601017  0.179506                    9  10101088801601   \n",
       "2  10101088801601034  0.122689                    1  10101088801601   \n",
       "3  10101088801601049  0.154729                    3  10101088801601   \n",
       "4  10101088801601064  0.197971                    2  10101088801601   \n",
       "\n",
       "         lat        lon  \n",
       "0  14.353816  37.890876  \n",
       "1  14.353816  37.890876  \n",
       "2  14.353816  37.890876  \n",
       "3  14.353816  37.890876  \n",
       "4  14.353816  37.890876  "
      ]
     },
     "execution_count": 75,
     "metadata": {},
     "output_type": "execute_result"
    }
   ],
   "source": [
    "df_combined.head()"
   ]
  },
  {
   "cell_type": "code",
   "execution_count": 78,
   "metadata": {},
   "outputs": [],
   "source": [
    "df_combined.drop(['household_id2', 'ea_id2'], axis=1, inplace=True)"
   ]
  },
  {
   "cell_type": "code",
   "execution_count": 79,
   "metadata": {},
   "outputs": [
    {
     "data": {
      "text/html": [
       "<div>\n",
       "<style scoped>\n",
       "    .dataframe tbody tr th:only-of-type {\n",
       "        vertical-align: middle;\n",
       "    }\n",
       "\n",
       "    .dataframe tbody tr th {\n",
       "        vertical-align: top;\n",
       "    }\n",
       "\n",
       "    .dataframe thead th {\n",
       "        text-align: right;\n",
       "    }\n",
       "</style>\n",
       "<table border=\"1\" class=\"dataframe\">\n",
       "  <thead>\n",
       "    <tr style=\"text-align: right;\">\n",
       "      <th></th>\n",
       "      <th>cons_ph</th>\n",
       "      <th>people_in_household</th>\n",
       "      <th>lat</th>\n",
       "      <th>lon</th>\n",
       "    </tr>\n",
       "  </thead>\n",
       "  <tbody>\n",
       "    <tr>\n",
       "      <td>0</td>\n",
       "      <td>0.039446</td>\n",
       "      <td>1</td>\n",
       "      <td>14.353816</td>\n",
       "      <td>37.890876</td>\n",
       "    </tr>\n",
       "    <tr>\n",
       "      <td>1</td>\n",
       "      <td>0.179506</td>\n",
       "      <td>9</td>\n",
       "      <td>14.353816</td>\n",
       "      <td>37.890876</td>\n",
       "    </tr>\n",
       "    <tr>\n",
       "      <td>2</td>\n",
       "      <td>0.122689</td>\n",
       "      <td>1</td>\n",
       "      <td>14.353816</td>\n",
       "      <td>37.890876</td>\n",
       "    </tr>\n",
       "    <tr>\n",
       "      <td>3</td>\n",
       "      <td>0.154729</td>\n",
       "      <td>3</td>\n",
       "      <td>14.353816</td>\n",
       "      <td>37.890876</td>\n",
       "    </tr>\n",
       "    <tr>\n",
       "      <td>4</td>\n",
       "      <td>0.197971</td>\n",
       "      <td>2</td>\n",
       "      <td>14.353816</td>\n",
       "      <td>37.890876</td>\n",
       "    </tr>\n",
       "  </tbody>\n",
       "</table>\n",
       "</div>"
      ],
      "text/plain": [
       "    cons_ph  people_in_household        lat        lon\n",
       "0  0.039446                    1  14.353816  37.890876\n",
       "1  0.179506                    9  14.353816  37.890876\n",
       "2  0.122689                    1  14.353816  37.890876\n",
       "3  0.154729                    3  14.353816  37.890876\n",
       "4  0.197971                    2  14.353816  37.890876"
      ]
     },
     "execution_count": 79,
     "metadata": {},
     "output_type": "execute_result"
    }
   ],
   "source": [
    "df_combined.dropna(inplace=True) # can't use na values\n",
    "df_combined.head()"
   ]
  },
  {
   "cell_type": "code",
   "execution_count": 80,
   "metadata": {},
   "outputs": [
    {
     "data": {
      "text/plain": [
       "(4717, 4)"
      ]
     },
     "execution_count": 80,
     "metadata": {},
     "output_type": "execute_result"
    }
   ],
   "source": [
    "df_combined.shape"
   ]
  },
  {
   "cell_type": "markdown",
   "metadata": {},
   "source": [
    "Jean et al makes a minor mistake in computing per capita consumption. Even though the LSMS documentation says `rexpagg` is per capita, `rexpaggpc` is actually the per capita value. `rexpagg` is the household consumption. We can compute per capita consumption in a cluster by summing up `rexpagg` in a cluster and dividing by the number of people in the cluster (that were surveyed)."
   ]
  },
  {
   "cell_type": "code",
   "execution_count": 81,
   "metadata": {},
   "outputs": [],
   "source": [
    "df_clusters = df_combined.groupby(['lat', 'lon']).sum().reset_index()\n",
    "df_clusters['cons_pc'] = df_clusters['cons_ph'] / df_clusters['people_in_household']\n",
    "df_clusters.drop(['cons_ph', 'people_in_household'], axis=1, inplace=True)"
   ]
  },
  {
   "cell_type": "code",
   "execution_count": 82,
   "metadata": {},
   "outputs": [
    {
     "data": {
      "text/html": [
       "<div>\n",
       "<style scoped>\n",
       "    .dataframe tbody tr th:only-of-type {\n",
       "        vertical-align: middle;\n",
       "    }\n",
       "\n",
       "    .dataframe tbody tr th {\n",
       "        vertical-align: top;\n",
       "    }\n",
       "\n",
       "    .dataframe thead th {\n",
       "        text-align: right;\n",
       "    }\n",
       "</style>\n",
       "<table border=\"1\" class=\"dataframe\">\n",
       "  <thead>\n",
       "    <tr style=\"text-align: right;\">\n",
       "      <th></th>\n",
       "      <th>lat</th>\n",
       "      <th>lon</th>\n",
       "      <th>cons_pc</th>\n",
       "    </tr>\n",
       "  </thead>\n",
       "  <tbody>\n",
       "    <tr>\n",
       "      <td>0</td>\n",
       "      <td>3.455701</td>\n",
       "      <td>39.515994</td>\n",
       "      <td>0.079805</td>\n",
       "    </tr>\n",
       "    <tr>\n",
       "      <td>1</td>\n",
       "      <td>3.549937</td>\n",
       "      <td>39.184234</td>\n",
       "      <td>0.067952</td>\n",
       "    </tr>\n",
       "    <tr>\n",
       "      <td>2</td>\n",
       "      <td>3.864243</td>\n",
       "      <td>39.101366</td>\n",
       "      <td>0.059437</td>\n",
       "    </tr>\n",
       "    <tr>\n",
       "      <td>3</td>\n",
       "      <td>3.982931</td>\n",
       "      <td>38.491368</td>\n",
       "      <td>0.057343</td>\n",
       "    </tr>\n",
       "    <tr>\n",
       "      <td>4</td>\n",
       "      <td>4.048194</td>\n",
       "      <td>41.930928</td>\n",
       "      <td>0.045284</td>\n",
       "    </tr>\n",
       "  </tbody>\n",
       "</table>\n",
       "</div>"
      ],
      "text/plain": [
       "        lat        lon   cons_pc\n",
       "0  3.455701  39.515994  0.079805\n",
       "1  3.549937  39.184234  0.067952\n",
       "2  3.864243  39.101366  0.059437\n",
       "3  3.982931  38.491368  0.057343\n",
       "4  4.048194  41.930928  0.045284"
      ]
     },
     "execution_count": 82,
     "metadata": {},
     "output_type": "execute_result"
    }
   ],
   "source": [
    "df_clusters.head()"
   ]
  },
  {
   "cell_type": "code",
   "execution_count": 83,
   "metadata": {},
   "outputs": [
    {
     "data": {
      "text/plain": [
       "(523, 3)"
      ]
     },
     "execution_count": 83,
     "metadata": {},
     "output_type": "execute_result"
    }
   ],
   "source": [
    "df_clusters.shape"
   ]
  },
  {
   "cell_type": "markdown",
   "metadata": {},
   "source": [
    "This shows how we can use the downloaded nightlight data to get the nightlights value at these cluster points."
   ]
  },
  {
   "cell_type": "code",
   "execution_count": 84,
   "metadata": {},
   "outputs": [],
   "source": [
    "import geoio\n",
    "img = geoio.GeoImage(NIGHTLIGHTS_DIR)\n",
    "# pass lon then lat\n",
    "xPixel, yPixel = img.proj_to_raster(34.915074, -14.683761)"
   ]
  },
  {
   "cell_type": "code",
   "execution_count": 85,
   "metadata": {},
   "outputs": [
    {
     "data": {
      "text/plain": [
       "(25790.308983159237, 10762.551363048204)"
      ]
     },
     "execution_count": 85,
     "metadata": {},
     "output_type": "execute_result"
    }
   ],
   "source": [
    "xPixel, yPixel"
   ]
  },
  {
   "cell_type": "code",
   "execution_count": 86,
   "metadata": {},
   "outputs": [
    {
     "data": {
      "text/plain": [
       "(1, 16801, 43201)"
      ]
     },
     "execution_count": 86,
     "metadata": {},
     "output_type": "execute_result"
    }
   ],
   "source": [
    "img.get_data().shape"
   ]
  },
  {
   "cell_type": "code",
   "execution_count": 87,
   "metadata": {},
   "outputs": [
    {
     "data": {
      "text/plain": [
       "(16801, 43201)"
      ]
     },
     "execution_count": 87,
     "metadata": {},
     "output_type": "execute_result"
    }
   ],
   "source": [
    "im_array = np.squeeze(img.get_data())\n",
    "im_array.shape"
   ]
  },
  {
   "cell_type": "code",
   "execution_count": 88,
   "metadata": {},
   "outputs": [
    {
     "data": {
      "text/plain": [
       "0"
      ]
     },
     "execution_count": 88,
     "metadata": {},
     "output_type": "execute_result"
    }
   ],
   "source": [
    "im_array[int(yPixel),int(xPixel)] # this is the nightlight value at the given coordinate"
   ]
  },
  {
   "cell_type": "code",
   "execution_count": 89,
   "metadata": {},
   "outputs": [],
   "source": [
    "import math\n",
    "\n",
    "def create_space(lat, lon, s=10):\n",
    "    \"\"\"Creates a s km x s km square centered on (lat, lon)\"\"\"\n",
    "    v = (180/math.pi)*(500/6378137)*s # roughly 0.045 for s=10\n",
    "    return lat - v, lon - v, lat + v, lon + v"
   ]
  },
  {
   "cell_type": "code",
   "execution_count": 90,
   "metadata": {},
   "outputs": [],
   "source": [
    "cluster_nightlights = []\n",
    "for i,r in df_clusters.iterrows():\n",
    "    min_lat, min_lon, max_lat, max_lon = create_space(r.lat, r.lon)\n",
    "    xminPixel, yminPixel = img.proj_to_raster(min_lon, min_lat)\n",
    "    xmaxPixel, ymaxPixel = img.proj_to_raster(max_lon, max_lat)\n",
    "    \n",
    "    xminPixel, xmaxPixel = min(xminPixel, xmaxPixel), max(xminPixel, xmaxPixel)\n",
    "    yminPixel, ymaxPixel = min(yminPixel, ymaxPixel), max(yminPixel, ymaxPixel)\n",
    "    \n",
    "    xminPixel, yminPixel, xmaxPixel, ymaxPixel = int(xminPixel), int(yminPixel), int(xmaxPixel), int(ymaxPixel)\n",
    "    cluster_nightlights.append(im_array[yminPixel:ymaxPixel,xminPixel:xmaxPixel].mean())"
   ]
  },
  {
   "cell_type": "code",
   "execution_count": 91,
   "metadata": {},
   "outputs": [],
   "source": [
    "df_clusters['nightlights'] = cluster_nightlights"
   ]
  },
  {
   "cell_type": "code",
   "execution_count": 95,
   "metadata": {},
   "outputs": [
    {
     "data": {
      "text/plain": [
       "187"
      ]
     },
     "execution_count": 95,
     "metadata": {},
     "output_type": "execute_result"
    }
   ],
   "source": [
    "sum(df_clusters['nightlights'] >0)"
   ]
  },
  {
   "cell_type": "code",
   "execution_count": 92,
   "metadata": {},
   "outputs": [
    {
     "data": {
      "text/html": [
       "<div>\n",
       "<style scoped>\n",
       "    .dataframe tbody tr th:only-of-type {\n",
       "        vertical-align: middle;\n",
       "    }\n",
       "\n",
       "    .dataframe tbody tr th {\n",
       "        vertical-align: top;\n",
       "    }\n",
       "\n",
       "    .dataframe thead th {\n",
       "        text-align: right;\n",
       "    }\n",
       "</style>\n",
       "<table border=\"1\" class=\"dataframe\">\n",
       "  <thead>\n",
       "    <tr style=\"text-align: right;\">\n",
       "      <th></th>\n",
       "      <th>lat</th>\n",
       "      <th>lon</th>\n",
       "      <th>cons_pc</th>\n",
       "      <th>nightlights</th>\n",
       "    </tr>\n",
       "  </thead>\n",
       "  <tbody>\n",
       "    <tr>\n",
       "      <td>0</td>\n",
       "      <td>3.455701</td>\n",
       "      <td>39.515994</td>\n",
       "      <td>0.079805</td>\n",
       "      <td>0.0</td>\n",
       "    </tr>\n",
       "    <tr>\n",
       "      <td>1</td>\n",
       "      <td>3.549937</td>\n",
       "      <td>39.184234</td>\n",
       "      <td>0.067952</td>\n",
       "      <td>0.0</td>\n",
       "    </tr>\n",
       "    <tr>\n",
       "      <td>2</td>\n",
       "      <td>3.864243</td>\n",
       "      <td>39.101366</td>\n",
       "      <td>0.059437</td>\n",
       "      <td>0.0</td>\n",
       "    </tr>\n",
       "    <tr>\n",
       "      <td>3</td>\n",
       "      <td>3.982931</td>\n",
       "      <td>38.491368</td>\n",
       "      <td>0.057343</td>\n",
       "      <td>0.0</td>\n",
       "    </tr>\n",
       "    <tr>\n",
       "      <td>4</td>\n",
       "      <td>4.048194</td>\n",
       "      <td>41.930928</td>\n",
       "      <td>0.045284</td>\n",
       "      <td>0.0</td>\n",
       "    </tr>\n",
       "  </tbody>\n",
       "</table>\n",
       "</div>"
      ],
      "text/plain": [
       "        lat        lon   cons_pc  nightlights\n",
       "0  3.455701  39.515994  0.079805          0.0\n",
       "1  3.549937  39.184234  0.067952          0.0\n",
       "2  3.864243  39.101366  0.059437          0.0\n",
       "3  3.982931  38.491368  0.057343          0.0\n",
       "4  4.048194  41.930928  0.045284          0.0"
      ]
     },
     "execution_count": 92,
     "metadata": {},
     "output_type": "execute_result"
    }
   ],
   "source": [
    "df_clusters.head()"
   ]
  },
  {
   "cell_type": "code",
   "execution_count": 93,
   "metadata": {},
   "outputs": [],
   "source": [
    "os.makedirs(os.path.join(COUNTRY_DIR, 'processed'), exist_ok=True)"
   ]
  },
  {
   "cell_type": "code",
   "execution_count": 94,
   "metadata": {},
   "outputs": [],
   "source": [
    "df_clusters.to_csv(os.path.join(COUNTRY_DIR, 'processed/clusters.csv'), index=False)"
   ]
  },
  {
   "cell_type": "code",
   "execution_count": null,
   "metadata": {},
   "outputs": [],
   "source": []
  }
 ],
 "metadata": {
  "kernelspec": {
   "display_name": "Python 3",
   "language": "python",
   "name": "python3"
  },
  "language_info": {
   "codemirror_mode": {
    "name": "ipython",
    "version": 3
   },
   "file_extension": ".py",
   "mimetype": "text/x-python",
   "name": "python",
   "nbconvert_exporter": "python",
   "pygments_lexer": "ipython3",
   "version": "3.7.4"
  }
 },
 "nbformat": 4,
 "nbformat_minor": 2
}
